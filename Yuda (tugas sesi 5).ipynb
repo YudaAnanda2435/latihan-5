{
 "cells": [
  {
   "cell_type": "code",
   "execution_count": 1,
   "id": "b82f3bbf",
   "metadata": {},
   "outputs": [
    {
     "name": "stdout",
     "output_type": "stream",
     "text": [
      "MASUKAN NAMA : Yuda Ananda\n",
      "MASUKAN ALAMAT : Sukabumi\n",
      "MASUKAN KELAS : TI22E\n",
      "MASUKAN HOBI : Tidur atau kadang futsal\n",
      "perkenalkan nama saya Yuda Ananda, alamat saya Sukabumi, saya dari kelas TI22E, hobi saya Tidur atau kadang futsal \"😇\" \n"
     ]
    }
   ],
   "source": [
    "nama = input('masukan nama : '.upper())\n",
    "alamat = input('masukan alamat : '.upper())\n",
    "kelas = input('masukan kelas : '.upper())\n",
    "hobi = input('masukan hobi : '.upper())\n",
    "\n",
    "print(f'perkenalkan nama saya {nama}, alamat saya {alamat}, saya dari kelas {kelas}, hobi saya {hobi} \"\\U0001F607\" ',)"
   ]
  }
 ],
 "metadata": {
  "kernelspec": {
   "display_name": "Python 3 (ipykernel)",
   "language": "python",
   "name": "python3"
  },
  "language_info": {
   "codemirror_mode": {
    "name": "ipython",
    "version": 3
   },
   "file_extension": ".py",
   "mimetype": "text/x-python",
   "name": "python",
   "nbconvert_exporter": "python",
   "pygments_lexer": "ipython3",
   "version": "3.9.12"
  }
 },
 "nbformat": 4,
 "nbformat_minor": 5
}
